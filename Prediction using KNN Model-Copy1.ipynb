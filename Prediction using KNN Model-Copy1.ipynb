{
 "cells": [
  {
   "cell_type": "code",
   "execution_count": 2,
   "metadata": {},
   "outputs": [],
   "source": [
    "import pandas as pd\n",
    "from sklearn.neighbors import KNeighborsClassifier\n",
    "from sklearn.model_selection import train_test_split\n",
    "from matplotlib import pyplot as plt"
   ]
  },
  {
   "cell_type": "code",
   "execution_count": 3,
   "metadata": {},
   "outputs": [
    {
     "name": "stdout",
     "output_type": "stream",
     "text": [
      "[[ 2355     0  1353    49]\n",
      " [ 1179     0   453     7]\n",
      " [   66     1    56     0]\n",
      " [ 9332     1  3926   129]\n",
      " [10987     1  4308   625]\n",
      " [  873    14   514    13]\n",
      " [   78     0    43     3]\n",
      " [ 1090     2   496    36]\n",
      " [  579     8   495     4]\n",
      " [ 4782     7  2315   243]\n",
      " [30703     3  7088  1135]\n",
      " [    7     0     2     0]\n",
      " [    1     0     1     0]\n",
      " [  737     0   196     3]\n",
      " [   13     0     9     1]\n",
      " [ 1944     0  1257    32]\n",
      " [ 4954     2  2839   126]\n",
      " [10579     6  3538    74]\n",
      " [ 1499    10   971    34]\n",
      " [  191     0    51     3]\n",
      " [ 1121     0   542    12]\n",
      " [   43     0     0     0]\n",
      " [ 4257     1  2441   104]\n",
      " [   87     1    51     1]\n",
      " [ 2576     0   872   232]\n",
      " [  167     0    64     0]\n",
      " [   13     0    11     1]\n",
      " [   13     0    22     0]\n",
      " [  217     0   113     3]\n",
      " [   17     0     7     0]\n",
      " [    1     0     0     0]\n",
      " [   92     0    41     2]\n",
      " [    1     0     1     0]\n",
      " [   33     0    33     0]]\n",
      "[ 2355  1179    67  9333 10988   887    78  1092   587  4789 30706     7\n",
      "     1   737    13  1944  4956 10585  1509   191  1121    43  4258    88\n",
      "  2576   167    13    13   217    17     1    92     1    33]\n"
     ]
    }
   ],
   "source": [
    "df= pd.read_excel('Covid cases in India.xlsx')\n",
    "#newdf= df[\"Total Cases, New Cases, Days after surpassing 100 cases\"]\n",
    "df.drop(['S. No.'],axis=1,inplace=True)\n",
    "df['Total cases'] = df['Total Confirmed cases (Indian National)'] + df['Total Confirmed cases ( Foreign National )']\n",
    "total_cases = df['Total cases'].sum()\n",
    "#print (df)\n",
    "#df[\"Days after surpassing 100 cases\"].fillna(\"Days after surpassing 100 cases\", inplace = True)\n",
    "x=df.iloc[:,1:5].values\n",
    "y=df.iloc[:,-1].values\n",
    "print(x)\n",
    "print (y)"
   ]
  },
  {
   "cell_type": "code",
   "execution_count": 4,
   "metadata": {},
   "outputs": [
    {
     "name": "stdout",
     "output_type": "stream",
     "text": [
      "(27, 4) (27,)\n",
      "(7, 4) (7,)\n"
     ]
    }
   ],
   "source": [
    "X_train, X_test, y_train, y_test = train_test_split(x, y, test_size=0.2)\n",
    "print (X_train.shape, y_train.shape)\n",
    "print (X_test.shape, y_test.shape)"
   ]
  },
  {
   "cell_type": "code",
   "execution_count": 6,
   "metadata": {},
   "outputs": [
    {
     "name": "stdout",
     "output_type": "stream",
     "text": [
      "Accuracy on training of model is : 0.14814814814814814\n",
      "Accuracy on test set of model is : 0.2857142857142857\n",
      "KNN Model score:\n",
      "0.2857142857142857\n",
      "Predicted result :\n",
      "[1121    1   13  217  217   13 4258]\n"
     ]
    }
   ],
   "source": [
    "knn=KNeighborsClassifier(n_neighbors=5)\n",
    "knn.fit(X_train, y_train)\n",
    "print(\"Accuracy on training of model is : {}\".format(knn.score(X_train, y_train)))\n",
    "print(\"Accuracy on test set of model is : {}\".format(knn.score(X_test, y_test)))\n",
    "y_test_pred = knn.predict(X_test)\n",
    "print(\"KNN Model score:\")\n",
    "print(knn.score(X_test, y_test))\n",
    "print(\"Predicted result :\")\n",
    "print(y_test_pred)"
   ]
  }
 ],
 "metadata": {
  "kernelspec": {
   "display_name": "Python 3",
   "language": "python",
   "name": "python3"
  },
  "language_info": {
   "codemirror_mode": {
    "name": "ipython",
    "version": 3
   },
   "file_extension": ".py",
   "mimetype": "text/x-python",
   "name": "python",
   "nbconvert_exporter": "python",
   "pygments_lexer": "ipython3",
   "version": "3.7.3"
  }
 },
 "nbformat": 4,
 "nbformat_minor": 2
}
